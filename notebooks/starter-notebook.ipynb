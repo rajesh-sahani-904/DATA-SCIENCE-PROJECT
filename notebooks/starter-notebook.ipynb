import os
import pandas as pd
import sqlite3
sqlite_db_path = "./data/raw/tpcds.db"

sqlite_db_path = "C:/Users/Latitude/PycharmProjects/Data_Science_Project/data/raw/tpcds.db"
# Using sqlite3
import pandas as pd
import sqlite3

conn = sqlite3.connect(sqlite_db_path)
query = "SELECT * FROM ship_mode LIMIT 10;"
result_df = pd.read_sql(query, conn)
display(result_df)

# Using sqlalchemy
import sqlalchemy
import pandas as pd

dbEngine=sqlalchemy.create_engine(f'sqlite:///{sqlite_db_path}') # ensure this is the correct path for the sqlite file. 
query = "SELECT * FROM ship_mode LIMIT 10;"
result_df = pd.read_sql(query, dbEngine)
display(result_df)

# List of all the tables
pd.read_sql("SELECT name FROM sqlite_schema WHERE type='table' ORDER BY name", 
            sqlite3.connect(sqlite_db_path))

# Display Table Information
table_name = "web_returns"
pd.read_sql(f"PRAGMA table_info({table_name})", sqlite3.connect(sqlite_db_path))

